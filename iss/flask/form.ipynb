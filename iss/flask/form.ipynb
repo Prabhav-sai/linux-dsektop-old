{
 "cells": [
  {
   "cell_type": "code",
   "execution_count": 3,
   "metadata": {},
   "outputs": [
    {
     "name": "stdout",
     "output_type": "stream",
     "text": [
      " * Serving Flask app '__main__'\n",
      " * Debug mode: off\n"
     ]
    },
    {
     "name": "stderr",
     "output_type": "stream",
     "text": [
      "WARNING: This is a development server. Do not use it in a production deployment. Use a production WSGI server instead.\n",
      " * Running on http://127.0.0.1:5000\n",
      "Press CTRL+C to quit\n",
      "127.0.0.1 - - [02/Feb/2024 22:04:21] \"GET / HTTP/1.1\" 200 -\n",
      "127.0.0.1 - - [02/Feb/2024 22:04:32] \"POST /input HTTP/1.1\" 200 -\n"
     ]
    },
    {
     "name": "stdout",
     "output_type": "stream",
     "text": [
      "{\"username\": \"jayu\", \"email\": \"jayanth.raju@gmail.com\", \"password\": \"b31c50f5459008429137198f2e7a7a03b35c7386bb5b8434f1d2dc59fb567802\"}\n"
     ]
    },
    {
     "name": "stderr",
     "output_type": "stream",
     "text": [
      "127.0.0.1 - - [02/Feb/2024 22:04:37] \"GET / HTTP/1.1\" 200 -\n",
      "127.0.0.1 - - [02/Feb/2024 22:04:55] \"GET /user/jayanth.raju@gmail.com HTTP/1.1\" 200 -\n"
     ]
    }
   ],
   "source": [
    "from flask import Flask, render_template, request, redirect, url_for, flash,make_response\n",
    "import hashlib\n",
    "import json\n",
    "\n",
    "app = Flask(__name__)\n",
    "\n",
    "user = dict.fromkeys(['username','email','password'],None)\n",
    "\n",
    "@app.route(\"/\")\n",
    "def view():\n",
    "    return render_template(\"form.html\")\n",
    "\n",
    "\n",
    "@app.route('/input',methods=['POST'])\n",
    "def take_input():\n",
    "    hash_object = hashlib.sha256()\n",
    "    user['username'] = request.form['username']\n",
    "    user['email'] = request.form['email']\n",
    "    password = request.form['password']\n",
    "    hash_object.update(password.encode())\n",
    "    user['password'] = hash_object.hexdigest()\n",
    "    json_user = json.dumps(user)\n",
    "    print(json_user)\n",
    "    with open(\"users.txt\",'a') as userstext:\n",
    "        userstext.write(json_user+\"\\n\")\n",
    "    return \"SUCCESS!!!!\"\n",
    "\n",
    "@app.route('/user/<user_id>')\n",
    "def output(user_id):\n",
    "    str = \"\"\n",
    "    with open(\"users.txt\",'r') as userstext:\n",
    "        for line in userstext:\n",
    "            obj = json.loads(line)\n",
    "            if(obj.get(\"email\")==user_id):\n",
    "                str = \"Username:\"+ obj.get(\"username\")+\"\\n\"\n",
    "                str += \"Email:\"+ obj.get(\"email\")+\"\\n\"\n",
    "                str +=\"Password:\"+ obj.get(\"password\")+\"\\n\"\n",
    "                break\n",
    "            else:\n",
    "                str =\"user not found!!!!\"\n",
    "    response = make_response(str)\n",
    "    response.headers['Content-Type'] = 'text/plain'\n",
    "    return response\n",
    "\n",
    "if __name__ == \"__main__\":\n",
    "    app.run()"
   ]
  }
 ],
 "metadata": {
  "kernelspec": {
   "display_name": "Python 3",
   "language": "python",
   "name": "python3"
  },
  "language_info": {
   "codemirror_mode": {
    "name": "ipython",
    "version": 3
   },
   "file_extension": ".py",
   "mimetype": "text/x-python",
   "name": "python",
   "nbconvert_exporter": "python",
   "pygments_lexer": "ipython3",
   "version": "3.10.12"
  }
 },
 "nbformat": 4,
 "nbformat_minor": 2
}
