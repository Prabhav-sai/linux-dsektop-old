{
 "cells": [
  {
   "cell_type": "code",
   "execution_count": 56,
   "metadata": {},
   "outputs": [
    {
     "name": "stdout",
     "output_type": "stream",
     "text": [
      "59dd1c01813a932e6c27d46270520caf23c3986d467d27cfe5cbc325f58be2eb\n",
      "2efbdb7e33dcb99f3a727b5bffe2ea61e4fd241189f21212ba24e9787efb9982\n",
      "59dd1c01813a932e6c27d46270520caf23c3986d467d27cfe5cbc325f58be2eb\n",
      "2efbdb7e33dcb99f3a727b5bffe2ea61e4fd241189f21212ba24e9787efb9982\n"
     ]
    }
   ],
   "source": [
    "import hashlib\n",
    "\n",
    "password = \"jayu\"# Create a SHA-256 hash object\n",
    "hash_object = hashlib.sha256()# Convert the password to bytes and hash it\n",
    "hash_object.update(password.encode())# Get the hex digest of the hash\n",
    "hash_password = hash_object.hexdigest()\n",
    "\n",
    "print(hash_password)\n",
    "\n",
    "# hash_object = hashlib.sha256()# Convert the password to bytes and hash it\n",
    "hash_object.update(password.encode())# Get the hex digest of the hash\n",
    "hash_password = hash_object.hexdigest()\n",
    "\n",
    "print(hash_password)\n",
    "\n",
    "hash_object = hashlib.sha256()\n",
    "hash_object.update(password.encode())# Get the hex digest of the hash\n",
    "hash_password = hash_object.hexdigest()\n",
    "\n",
    "print(hash_password)\n",
    "\n",
    "# hash_object = hashlib.sha256()\n",
    "hash_object.update(password.encode())# Get the hex digest of the hash\n",
    "hash_password = hash_object.hexdigest()\n",
    "\n",
    "print(hash_password)"
   ]
  }
 ],
 "metadata": {
  "kernelspec": {
   "display_name": "Python 3",
   "language": "python",
   "name": "python3"
  },
  "language_info": {
   "codemirror_mode": {
    "name": "ipython",
    "version": 3
   },
   "file_extension": ".py",
   "mimetype": "text/x-python",
   "name": "python",
   "nbconvert_exporter": "python",
   "pygments_lexer": "ipython3",
   "version": "3.10.12"
  }
 },
 "nbformat": 4,
 "nbformat_minor": 2
}
