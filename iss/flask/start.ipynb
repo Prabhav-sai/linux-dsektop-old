{
 "cells": [
  {
   "cell_type": "code",
   "execution_count": 11,
   "metadata": {},
   "outputs": [
    {
     "name": "stdout",
     "output_type": "stream",
     "text": [
      " * Serving Flask app '__main__'\n",
      " * Debug mode: off\n"
     ]
    },
    {
     "name": "stderr",
     "output_type": "stream",
     "text": [
      "WARNING: This is a development server. Do not use it in a production deployment. Use a production WSGI server instead.\n",
      " * Running on http://127.0.0.1:5000\n",
      "Press CTRL+C to quit\n",
      "127.0.0.1 - - [02/Feb/2024 09:40:21] \"GET /hiha/macha HTTP/1.1\" 200 -\n",
      "127.0.0.1 - - [02/Feb/2024 09:40:22] \"GET /hiha/macha HTTP/1.1\" 200 -\n",
      "127.0.0.1 - - [02/Feb/2024 09:40:22] \"GET /hiha/macha HTTP/1.1\" 200 -\n",
      "127.0.0.1 - - [02/Feb/2024 09:40:22] \"GET /hiha/macha HTTP/1.1\" 200 -\n"
     ]
    }
   ],
   "source": [
    "from flask import Flask\n",
    "app = Flask(__name__)\n",
    "\n",
    "@app.route('/hiha/<name>')\n",
    "def hello(name):\n",
    "    return \"HELLO!!! %s!!!\" % name\n",
    "\n",
    "# app.add_url_rule('/','hiha',hello)\n",
    "if __name__=='__main__':\n",
    "    app.run()"
   ]
  }
 ],
 "metadata": {
  "kernelspec": {
   "display_name": "Python 3",
   "language": "python",
   "name": "python3"
  },
  "language_info": {
   "codemirror_mode": {
    "name": "ipython",
    "version": 3
   },
   "file_extension": ".py",
   "mimetype": "text/x-python",
   "name": "python",
   "nbconvert_exporter": "python",
   "pygments_lexer": "ipython3",
   "version": "3.10.12"
  }
 },
 "nbformat": 4,
 "nbformat_minor": 2
}
