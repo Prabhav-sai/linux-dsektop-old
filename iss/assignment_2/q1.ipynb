{
 "cells": [
  {
   "cell_type": "code",
   "execution_count": 373,
   "metadata": {},
   "outputs": [
    {
     "name": "stdout",
     "output_type": "stream",
     "text": [
      "190532\n",
      "[190532, 302443, 471768, 565045, 275852, 94325, 972056, 892867, 211479, 723367, 259816, 504353, 371948, 345314, 241758, 446930, 746424, 148787, 137571, 925780, 68608, 70576, 809717, 641620, 676224, 278898, 784094, 803400, 451560, 906433, 620783, 371533, 36770, 520329, 742268, 961783, 26539, 43185, 649442, 774911, 487057, 224521, 409679, 836883, 373155, 244654, 855579, 15425, 379306, 873041]\n",
      "[0.190532, 0.302443, 0.471768, 0.565045, 0.275852, 0.94325, 0.972056, 0.892867, 0.211479, 0.723367, 0.259816, 0.504353, 0.371948, 0.345314, 0.241758, 0.44693, 0.746424, 0.148787, 0.137571, 0.92578, 0.68608, 0.70576, 0.809717, 0.64162, 0.676224, 0.278898, 0.784094, 0.8034, 0.45156, 0.906433, 0.620783, 0.371533, 0.3677, 0.520329, 0.742268, 0.961783, 0.26539, 0.43185, 0.649442, 0.774911, 0.487057, 0.224521, 0.409679, 0.836883, 0.373155, 0.244654, 0.855579, 0.15425, 0.379306, 0.873041]\n"
     ]
    },
    {
     "data": {
      "image/png": "[encoded data removed]",
      "text/plain": [
       "<Figure size 640x480 with 1 Axes>"
      ]
     },
     "metadata": {},
     "output_type": "display_data"
    }
   ],
   "source": [
    "import time\n",
    "import math\n",
    "import matplotlib.pyplot as plt\n",
    "# import sys\n",
    "\n",
    "randomnumbers =[]\n",
    "histo_randomnumbers = []\n",
    "\n",
    "t = time.localtime()\n",
    "hours = str(t.tm_hour).rjust(2,'0')\n",
    "minutes = str(t.tm_min).rjust(2,'0')\n",
    "seconds = str(t.tm_sec).rjust(2,'0')\n",
    "\n",
    "seed = int(hours+minutes+seconds)\n",
    "\n",
    "n = 6 # n = no of digits in the seed\n",
    "\n",
    "def countDigit(n): \n",
    "    if n==0 :\n",
    "        return 0\n",
    "    return math.floor(math.log10(n)+1)\n",
    "\n",
    "# sys.setrecursionlimit(10000000)\n",
    "\n",
    "def pseudo_rand_num_gen(seed, k):\n",
    "    if(k==0):\n",
    "        return\n",
    "    strseed = str(seed)\n",
    "    if(len(strseed)%2==1):\n",
    "        strseed = '0'+str(seed)\n",
    "    length = len(strseed)\n",
    "    start = (length//2) - 3\n",
    "    seed = int(strseed[start:start+6])\n",
    "    randomnumbers.append(seed)\n",
    "    pseudo_rand_num_gen(seed*seed,k-1)\n",
    "    return\n",
    "\n",
    "print(seed)\n",
    "# print(seed[(len(seed)-6)//2:(len(seed)-6)+6])\n",
    "# print(countDigit(seed))\n",
    "\n",
    "# print(countDigit(999999*999999))\n",
    "pseudo_rand_num_gen(seed,50)\n",
    "\n",
    "for num in randomnumbers:\n",
    "    histo_randomnumbers.append(float(num/pow(10,countDigit(num))))\n",
    "\n",
    "print(randomnumbers)\n",
    "print(histo_randomnumbers)\n",
    "\n",
    "plt.hist(histo_randomnumbers)\n",
    "\n",
    "plt.show()"
   ]
  },
  {
   "cell_type": "code",
   "execution_count": 372,
   "metadata": {},
   "outputs": [
    {
     "name": "stdout",
     "output_type": "stream",
     "text": [
      "0.104\n"
     ]
    }
   ],
   "source": [
    "from q1_a import histo_randomnumbers,no_of_it\n",
    "\n",
    "x = [(histo_randomnumbers[num*2]*2)-1 for num in range(0,no_of_it//2)]\n",
    "y = [(histo_randomnumbers[num*2+1]*2)-1 for num in range(0,no_of_it//2)]\n",
    "\n",
    "points_in_circle = 0\n",
    "\n",
    "for i in range(no_of_it//2):\n",
    "    if x[i]*x[i]+y[i]*y[i]<1 :\n",
    "        points_in_circle +=1\n",
    "\n",
    "prob = points_in_circle/no_of_it\n",
    "\n",
    "pi = 4*prob\n",
    "\n",
    "print(pi)"
   ]
  }
 ],
 "metadata": {
  "kernelspec": {
   "display_name": "Python 3",
   "language": "python",
   "name": "python3"
  },
  "language_info": {
   "codemirror_mode": {
    "name": "ipython",
    "version": 3
   },
   "file_extension": ".py",
   "mimetype": "text/x-python",
   "name": "python",
   "nbconvert_exporter": "python",
   "pygments_lexer": "ipython3",
   "version": "3.10.12"
  }
 },
 "nbformat": 4,
 "nbformat_minor": 2
}
