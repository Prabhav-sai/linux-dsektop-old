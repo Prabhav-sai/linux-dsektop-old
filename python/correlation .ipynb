{
 "cells": [
  {
   "cell_type": "code",
   "execution_count": 17,
   "metadata": {},
   "outputs": [],
   "source": [
    "import pandas as pd"
   ]
  },
  {
   "cell_type": "code",
   "execution_count": 18,
   "metadata": {},
   "outputs": [],
   "source": [
    "fert_df = pd.read_csv('fertility-rate.csv',index_col=\"States/UTs\")\n",
    "lit_df = pd.read_csv('literacy-rate.csv',index_col=\"States/UTs\")"
   ]
  },
  {
   "cell_type": "code",
   "execution_count": 19,
   "metadata": {},
   "outputs": [
    {
     "name": "stdout",
     "output_type": "stream",
     "text": [
      "                Total GFR  Rural GFR  Urban GFR\n",
      "States/UTs                                     \n",
      "Andhra Pradesh       60.7       63.6       54.4\n",
      "Assam                82.8       88.8       51.3\n",
      "Bihar               114.4      118.2       83.8\n",
      "Chhattisgarh         91.9       99.1       62.3\n",
      "Delhi                63.3       70.9       62.1\n"
     ]
    }
   ],
   "source": [
    "print(fert_df.head())"
   ]
  },
  {
   "cell_type": "code",
   "execution_count": 20,
   "metadata": {},
   "outputs": [
    {
     "name": "stdout",
     "output_type": "stream",
     "text": [
      "                             Persons   Male  Female  Rural Persons  \\\n",
      "States/UTs                                                           \n",
      "Andaman and Nicobar Islands    86.63  90.27   82.43          84.50   \n",
      "Andhra Pradesh                 67.41  74.83   60.01          62.43   \n",
      "Andhra Pradesh (Un-divided)    67.02  74.88   59.15          60.45   \n",
      "Arunachal Pradesh              65.38  72.55   57.70          59.94   \n",
      "Assam                          72.19  77.85   66.27          69.34   \n",
      "\n",
      "                             Rural Male  Rural Female  Urban Persons  \\\n",
      "States/UTs                                                             \n",
      "Andaman and Nicobar Islands       88.53         79.85          90.10   \n",
      "Andhra Pradesh                    70.55         54.30          79.17   \n",
      "Andhra Pradesh (Un-divided)       69.38         51.54          80.09   \n",
      "Arunachal Pradesh                 67.44         52.04          82.93   \n",
      "Assam                             75.40         63.03          88.47   \n",
      "\n",
      "                             Urban Male  Urban Female  \n",
      "States/UTs                                             \n",
      "Andaman and Nicobar Islands       93.11         86.63  \n",
      "Andhra Pradesh                    85.00         73.42  \n",
      "Andhra Pradesh (Un-divided)       85.79         74.35  \n",
      "Arunachal Pradesh                 88.45         76.66  \n",
      "Assam                             91.81         84.94  \n"
     ]
    }
   ],
   "source": [
    "print(lit_df.head())"
   ]
  },
  {
   "cell_type": "code",
   "execution_count": 21,
   "metadata": {},
   "outputs": [],
   "source": [
    "merged_df = pd.merge(fert_df,lit_df, on=\"States/UTs\", how =\"inner\")#inner is intersection, outer is union, left and right try"
   ]
  },
  {
   "cell_type": "code",
   "execution_count": 22,
   "metadata": {},
   "outputs": [
    {
     "name": "stdout",
     "output_type": "stream",
     "text": [
      "                Total GFR  Rural GFR  Urban GFR  Persons   Male  Female  \\\n",
      "States/UTs                                                                \n",
      "Andhra Pradesh       60.7       63.6       54.4    67.41  74.83   60.01   \n",
      "Assam                82.8       88.8       51.3    72.19  77.85   66.27   \n",
      "Bihar               114.4      118.2       83.8    61.80  71.20   51.50   \n",
      "Chhattisgarh         91.9       99.1       62.3    70.28  80.27   60.24   \n",
      "Delhi                63.3       70.9       62.1    86.21  90.94   80.76   \n",
      "\n",
      "                Rural Persons  Rural Male  Rural Female  Urban Persons  \\\n",
      "States/UTs                                                               \n",
      "Andhra Pradesh          62.43       70.55         54.30          79.17   \n",
      "Assam                   69.34       75.40         63.03          88.47   \n",
      "Bihar                   59.78       69.67         49.00          76.86   \n",
      "Chhattisgarh            65.99       76.98         55.06          84.05   \n",
      "Delhi                   81.86       89.37         73.10          86.32   \n",
      "\n",
      "                Urban Male  Urban Female  \n",
      "States/UTs                                \n",
      "Andhra Pradesh       85.00         73.42  \n",
      "Assam                91.81         84.94  \n",
      "Bihar                82.56         70.49  \n",
      "Chhattisgarh         90.58         77.24  \n",
      "Delhi                90.98         80.95  \n"
     ]
    }
   ],
   "source": [
    "print(merged_df.head())"
   ]
  },
  {
   "cell_type": "code",
   "execution_count": 23,
   "metadata": {},
   "outputs": [
    {
     "name": "stdout",
     "output_type": "stream",
     "text": [
      "                   Total GFR  Rural GFR  Urban GFR  Persons   Male  Female  \\\n",
      "States/UTs                                                                   \n",
      "Andhra Pradesh          60.7       63.6       54.4    67.41  74.83   60.01   \n",
      "Assam                   82.8       88.8       51.3    72.19  77.85   66.27   \n",
      "Bihar                  114.4      118.2       83.8    61.80  71.20   51.50   \n",
      "Chhattisgarh            91.9       99.1       62.3    70.28  80.27   60.24   \n",
      "Delhi                   63.3       70.9       62.1    86.21  90.94   80.76   \n",
      "Gujarat                 79.7       87.0       68.7    78.03  85.75   69.68   \n",
      "Haryana                 80.7       85.7       69.9    75.55  84.06   65.94   \n",
      "Himachal Pradesh        57.3       59.3       37.8    82.80  89.53   75.93   \n",
      "Jammu and Kashmir       62.5       67.7       43.8    67.16  76.75   56.43   \n",
      "Jharkhand               96.1      102.9       69.2    66.41  76.84   55.42   \n",
      "Karnataka               65.8       70.3       58.2    75.36  82.47   68.08   \n",
      "Kerala                  54.2       55.2       51.3    94.00  96.11   92.07   \n",
      "Madhya Pradesh         103.4      113.0       71.9    69.32  78.73   59.24   \n",
      "Maharashtra             61.6       66.6       55.5    82.34  88.38   75.87   \n",
      "Odisha                  72.6       76.5       50.2    72.87  81.59   64.01   \n",
      "Punjab                  59.9       62.2       56.2    75.84  80.44   70.73   \n",
      "Rajasthan              102.1      108.9       81.8    66.11  79.19   52.12   \n",
      "Tamil Nadu              56.4       58.2       54.2    80.09  86.77   73.44   \n",
      "Uttar Pradesh          109.3      115.1       86.6    67.68  77.28   57.18   \n",
      "West Bengal             57.9       65.0       39.4    76.26  81.69   70.54   \n",
      "India                   81.2       88.9       62.0    72.98  80.88   64.63   \n",
      "\n",
      "                   Rural Persons  Rural Male  Rural Female  Urban Persons  \\\n",
      "States/UTs                                                                  \n",
      "Andhra Pradesh             62.43       70.55         54.30          79.17   \n",
      "Assam                      69.34       75.40         63.03          88.47   \n",
      "Bihar                      59.78       69.67         49.00          76.86   \n",
      "Chhattisgarh               65.99       76.98         55.06          84.05   \n",
      "Delhi                      81.86       89.37         73.10          86.32   \n",
      "Gujarat                    71.71       81.61         61.36          86.31   \n",
      "Haryana                    71.42       81.55         60.02          83.14   \n",
      "Himachal Pradesh           81.85       89.05         74.62          91.10   \n",
      "Jammu and Kashmir          63.18       73.76         51.64          77.12   \n",
      "Jharkhand                  61.11       72.86         48.91          82.26   \n",
      "Karnataka                  68.73       77.61         59.71          85.78   \n",
      "Kerala                     92.98       95.35         90.81          95.11   \n",
      "Madhya Pradesh             63.94       74.74         52.43          82.85   \n",
      "Maharashtra                77.01       85.15         68.54          88.69   \n",
      "Odisha                     70.22       79.65         60.74          85.75   \n",
      "Punjab                     71.42       76.62         65.74          83.18   \n",
      "Rajasthan                  61.44       76.16         45.80          79.68   \n",
      "Tamil Nadu                 73.54       82.04         65.05          87.04   \n",
      "Uttar Pradesh              65.46       76.33         53.65          75.14   \n",
      "West Bengal                72.13       78.44         65.51          84.78   \n",
      "India                      67.77       77.15         57.93          84.11   \n",
      "\n",
      "                   Urban Male  Urban Female  \n",
      "States/UTs                                   \n",
      "Andhra Pradesh          85.00         73.42  \n",
      "Assam                   91.81         84.94  \n",
      "Bihar                   82.56         70.49  \n",
      "Chhattisgarh            90.58         77.24  \n",
      "Delhi                   90.98         80.95  \n",
      "Gujarat                 90.98         81.03  \n",
      "Haryana                 88.63         76.90  \n",
      "Himachal Pradesh        93.42         88.37  \n",
      "Jammu and Kashmir       83.92         69.01  \n",
      "Jharkhand               88.44         75.47  \n",
      "Karnataka               90.04         81.36  \n",
      "Kerala                  96.95         93.44  \n",
      "Madhya Pradesh          88.67         76.52  \n",
      "Maharashtra             92.12         84.89  \n",
      "Odisha                  90.72         80.42  \n",
      "Punjab                  86.67         79.21  \n",
      "Rajasthan               87.91         70.73  \n",
      "Tamil Nadu              91.80         82.31  \n",
      "Uttar Pradesh           80.45         69.22  \n",
      "West Bengal             88.37         80.98  \n",
      "India                   88.76         79.11  \n"
     ]
    }
   ],
   "source": [
    "print(merged_df)"
   ]
  },
  {
   "cell_type": "code",
   "execution_count": 25,
   "metadata": {},
   "outputs": [],
   "source": [
    "total_female_df = merged_df[[\"Total GFR\", \"Female\"]]"
   ]
  },
  {
   "cell_type": "code",
   "execution_count": 27,
   "metadata": {},
   "outputs": [
    {
     "name": "stdout",
     "output_type": "stream",
     "text": [
      "                Total GFR  Female\n",
      "States/UTs                       \n",
      "Andhra Pradesh       60.7   60.01\n",
      "Assam                82.8   66.27\n",
      "Bihar               114.4   51.50\n",
      "Chhattisgarh         91.9   60.24\n",
      "Delhi                63.3   80.76\n"
     ]
    }
   ],
   "source": [
    "print(total_female_df.head())"
   ]
  },
  {
   "cell_type": "code",
   "execution_count": 29,
   "metadata": {},
   "outputs": [
    {
     "name": "stdout",
     "output_type": "stream",
     "text": [
      "-0.7426519954373397\n"
     ]
    }
   ],
   "source": [
    "total_female_corr = total_female_df[\"Total GFR\"].corr(total_female_df[\"Female\"])\n",
    "print(total_female_corr)"
   ]
  }
 ],
 "metadata": {
  "kernelspec": {
   "display_name": "Python 3",
   "language": "python",
   "name": "python3"
  },
  "language_info": {
   "codemirror_mode": {
    "name": "ipython",
    "version": 3
   },
   "file_extension": ".py",
   "mimetype": "text/x-python",
   "name": "python",
   "nbconvert_exporter": "python",
   "pygments_lexer": "ipython3",
   "version": "3.10.12"
  },
  "orig_nbformat": 4
 },
 "nbformat": 4,
 "nbformat_minor": 2
}
