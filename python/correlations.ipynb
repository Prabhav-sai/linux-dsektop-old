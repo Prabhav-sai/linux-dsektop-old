{
 "cells": [
  {
   "cell_type": "code",
   "execution_count": 56,
   "metadata": {},
   "outputs": [],
   "source": [
    "import pandas as pd"
   ]
  },
  {
   "cell_type": "code",
   "execution_count": 57,
   "metadata": {},
   "outputs": [],
   "source": [
    "df_fert = pd.read_csv('fertility-rate.csv')\n",
    "df_lit = pd.read_csv('literacy-rate.csv',index_col='States/UTs')"
   ]
  },
  {
   "cell_type": "code",
   "execution_count": 58,
   "metadata": {},
   "outputs": [
    {
     "name": "stdout",
     "output_type": "stream",
     "text": [
      "           States/UTs  Total GFR  Rural GFR  Urban GFR\n",
      "0      Andhra Pradesh       60.7       63.6       54.4\n",
      "1               Assam       82.8       88.8       51.3\n",
      "2               Bihar      114.4      118.2       83.8\n",
      "3        Chhattisgarh       91.9       99.1       62.3\n",
      "4               Delhi       63.3       70.9       62.1\n",
      "5             Gujarat       79.7       87.0       68.7\n",
      "6             Haryana       80.7       85.7       69.9\n",
      "7    Himachal Pradesh       57.3       59.3       37.8\n",
      "8   Jammu and Kashmir       62.5       67.7       43.8\n",
      "9           Jharkhand       96.1      102.9       69.2\n",
      "10          Karnataka       65.8       70.3       58.2\n",
      "11             Kerala       54.2       55.2       51.3\n",
      "12     Madhya Pradesh      103.4      113.0       71.9\n",
      "13        Maharashtra       61.6       66.6       55.5\n",
      "14             Odisha       72.6       76.5       50.2\n",
      "15             Punjab       59.9       62.2       56.2\n",
      "16          Rajasthan      102.1      108.9       81.8\n",
      "17         Tamil Nadu       56.4       58.2       54.2\n",
      "18      Uttar Pradesh      109.3      115.1       86.6\n",
      "19        West Bengal       57.9       65.0       39.4\n",
      "20              India       81.2       88.9       62.0\n"
     ]
    }
   ],
   "source": [
    "print(df_fert)# .head()and .tail()for first and last 5 datas"
   ]
  },
  {
   "cell_type": "code",
   "execution_count": 59,
   "metadata": {},
   "outputs": [
    {
     "name": "stdout",
     "output_type": "stream",
     "text": [
      "                             Persons   Male  Female  Rural Persons  \\\n",
      "States/UTs                                                           \n",
      "Andaman and Nicobar Islands    86.63  90.27   82.43          84.50   \n",
      "Andhra Pradesh                 67.41  74.83   60.01          62.43   \n",
      "Andhra Pradesh (Un-divided)    67.02  74.88   59.15          60.45   \n",
      "Arunachal Pradesh              65.38  72.55   57.70          59.94   \n",
      "Assam                          72.19  77.85   66.27          69.34   \n",
      "Bihar                          61.80  71.20   51.50          59.78   \n",
      "Chandigarh                     86.05  89.99   81.19          80.75   \n",
      "Chhattisgarh                   70.28  80.27   60.24          65.99   \n",
      "Dadra and Nagar Haveli         76.24  85.17   64.32          64.12   \n",
      "Daman and Diu                  87.10  91.54   79.55          81.36   \n",
      "Delhi                          86.21  90.94   80.76          81.86   \n",
      "Goa                            88.70  92.65   84.66          86.65   \n",
      "Gujarat                        78.03  85.75   69.68          71.71   \n",
      "Haryana                        75.55  84.06   65.94          71.42   \n",
      "Himachal Pradesh               82.80  89.53   75.93          81.85   \n",
      "Jammu and Kashmir              67.16  76.75   56.43          63.18   \n",
      "Jharkhand                      66.41  76.84   55.42          61.11   \n",
      "Karnataka                      75.36  82.47   68.08          68.73   \n",
      "Kerala                         94.00  96.11   92.07          92.98   \n",
      "Lakshadweep                    91.85  95.56   87.95          91.58   \n",
      "Madhya Pradesh                 69.32  78.73   59.24          63.94   \n",
      "Maharashtra                    82.34  88.38   75.87          77.01   \n",
      "Manipur                        76.94  83.58   70.26          73.40   \n",
      "Meghalaya                      74.43  75.95   72.89          69.92   \n",
      "Mizoram                        91.33  93.35   89.27          84.10   \n",
      "Nagaland                       79.55  82.75   76.11          75.35   \n",
      "Odisha                         72.87  81.59   64.01          70.22   \n",
      "Puducherry                     85.85  91.26   80.67          80.10   \n",
      "Punjab                         75.84  80.44   70.73          71.42   \n",
      "Rajasthan                      66.11  79.19   52.12          61.44   \n",
      "Sikkim                         81.42  86.55   75.61          78.95   \n",
      "Tamil Nadu                     80.09  86.77   73.44          73.54   \n",
      "Telangana                      66.46  74.95   57.92          57.25   \n",
      "Tripura                        87.22  91.53   82.73          84.90   \n",
      "Uttar Pradesh                  67.68  77.28   57.18          65.46   \n",
      "Uttarakhand                    78.82  87.40   70.01          76.31   \n",
      "West Bengal                    76.26  81.69   70.54          72.13   \n",
      "India                          72.98  80.88   64.63          67.77   \n",
      "\n",
      "                             Rural Male  Rural Female  Urban Persons  \\\n",
      "States/UTs                                                             \n",
      "Andaman and Nicobar Islands       88.53         79.85          90.10   \n",
      "Andhra Pradesh                    70.55         54.30          79.17   \n",
      "Andhra Pradesh (Un-divided)       69.38         51.54          80.09   \n",
      "Arunachal Pradesh                 67.44         52.04          82.93   \n",
      "Assam                             75.40         63.03          88.47   \n",
      "Bihar                             69.67         49.00          76.86   \n",
      "Chandigarh                        85.77         73.17          86.19   \n",
      "Chhattisgarh                      76.98         55.06          84.05   \n",
      "Dadra and Nagar Haveli            76.40         49.58          89.79   \n",
      "Daman and Diu                     89.43         71.93          88.96   \n",
      "Delhi                             89.37         73.10          86.32   \n",
      "Goa                               91.71         81.63          89.95   \n",
      "Gujarat                           81.61         61.36          86.31   \n",
      "Haryana                           81.55         60.02          83.14   \n",
      "Himachal Pradesh                  89.05         74.62          91.10   \n",
      "Jammu and Kashmir                 73.76         51.64          77.12   \n",
      "Jharkhand                         72.86         48.91          82.26   \n",
      "Karnataka                         77.61         59.71          85.78   \n",
      "Kerala                            95.35         90.81          95.11   \n",
      "Lakshadweep                       94.53         88.50          91.92   \n",
      "Madhya Pradesh                    74.74         52.43          82.85   \n",
      "Maharashtra                       85.15         68.54          88.69   \n",
      "Manipur                           80.29         66.34          85.38   \n",
      "Meghalaya                         71.46         68.37          90.79   \n",
      "Mizoram                           88.16         79.81          97.63   \n",
      "Nagaland                          78.96         71.51          89.62   \n",
      "Odisha                            79.65         60.74          85.75   \n",
      "Puducherry                        87.44         73.02          88.49   \n",
      "Punjab                            76.62         65.74          83.18   \n",
      "Rajasthan                         76.16         45.80          79.68   \n",
      "Sikkim                            84.62         72.45          88.71   \n",
      "Tamil Nadu                        82.04         65.05          87.04   \n",
      "Telangana                         67.48         47.11          81.09   \n",
      "Tripura                           90.07         79.49          93.47   \n",
      "Uttar Pradesh                     76.33         53.65          75.14   \n",
      "Uttarakhand                       86.62         66.18          84.45   \n",
      "West Bengal                       78.44         65.51          84.78   \n",
      "India                             77.15         57.93          84.11   \n",
      "\n",
      "                             Urban Male  Urban Female  \n",
      "States/UTs                                             \n",
      "Andaman and Nicobar Islands       93.11         86.63  \n",
      "Andhra Pradesh                    85.00         73.42  \n",
      "Andhra Pradesh (Un-divided)       85.79         74.35  \n",
      "Arunachal Pradesh                 88.45         76.66  \n",
      "Assam                             91.81         84.94  \n",
      "Bihar                             82.56         70.49  \n",
      "Chandigarh                        90.11         81.38  \n",
      "Chhattisgarh                      90.58         77.24  \n",
      "Dadra and Nagar Haveli            93.99         83.38  \n",
      "Daman and Diu                     92.10         82.88  \n",
      "Delhi                             90.98         80.95  \n",
      "Goa                               93.21         86.56  \n",
      "Gujarat                           90.98         81.03  \n",
      "Haryana                           88.63         76.90  \n",
      "Himachal Pradesh                  93.42         88.37  \n",
      "Jammu and Kashmir                 83.92         69.01  \n",
      "Jharkhand                         88.44         75.47  \n",
      "Karnataka                         90.04         81.36  \n",
      "Kerala                            96.95         93.44  \n",
      "Lakshadweep                       95.84         87.79  \n",
      "Madhya Pradesh                    88.67         76.52  \n",
      "Maharashtra                       92.12         84.89  \n",
      "Manipur                           91.68         79.31  \n",
      "Meghalaya                         92.46         89.14  \n",
      "Mizoram                           97.98         97.27  \n",
      "Nagaland                          91.62         87.40  \n",
      "Odisha                            90.72         80.42  \n",
      "Puducherry                        93.03         84.17  \n",
      "Punjab                            86.67         79.21  \n",
      "Rajasthan                         87.91         70.73  \n",
      "Sikkim                            92.35         84.70  \n",
      "Tamil Nadu                        91.80         82.31  \n",
      "Telangana                         86.65         75.39  \n",
      "Tripura                           95.51         91.38  \n",
      "Uttar Pradesh                     80.45         69.22  \n",
      "Uttarakhand                       89.05         79.25  \n",
      "West Bengal                       88.37         80.98  \n",
      "India                             88.76         79.11  \n"
     ]
    }
   ],
   "source": [
    "print(df_lit)"
   ]
  },
  {
   "cell_type": "code",
   "execution_count": 60,
   "metadata": {},
   "outputs": [
    {
     "name": "stdout",
     "output_type": "stream",
     "text": [
      "0        Andhra Pradesh\n",
      "1                 Assam\n",
      "2                 Bihar\n",
      "3          Chhattisgarh\n",
      "4                 Delhi\n",
      "5               Gujarat\n",
      "6               Haryana\n",
      "7      Himachal Pradesh\n",
      "8     Jammu and Kashmir\n",
      "9             Jharkhand\n",
      "10            Karnataka\n",
      "11               Kerala\n",
      "12       Madhya Pradesh\n",
      "13          Maharashtra\n",
      "14               Odisha\n",
      "15               Punjab\n",
      "16            Rajasthan\n",
      "17           Tamil Nadu\n",
      "18        Uttar Pradesh\n",
      "19          West Bengal\n",
      "20                India\n",
      "Name: States/UTs, dtype: object\n"
     ]
    }
   ],
   "source": [
    "print(df_fert[\"States/UTs\"])"
   ]
  },
  {
   "cell_type": "code",
   "execution_count": 61,
   "metadata": {},
   "outputs": [
    {
     "name": "stdout",
     "output_type": "stream",
     "text": [
      "RangeIndex(start=0, stop=21, step=1)\n"
     ]
    }
   ],
   "source": [
    "print(df_fert.index)"
   ]
  },
  {
   "cell_type": "code",
   "execution_count": 62,
   "metadata": {},
   "outputs": [
    {
     "name": "stdout",
     "output_type": "stream",
     "text": [
      "Index(['Andaman and Nicobar Islands', 'Andhra Pradesh',\n",
      "       'Andhra Pradesh (Un-divided)', 'Arunachal Pradesh', 'Assam', 'Bihar',\n",
      "       'Chandigarh', 'Chhattisgarh', 'Dadra and Nagar Haveli', 'Daman and Diu',\n",
      "       'Delhi', 'Goa', 'Gujarat', 'Haryana', 'Himachal Pradesh',\n",
      "       'Jammu and Kashmir', 'Jharkhand', 'Karnataka', 'Kerala', 'Lakshadweep',\n",
      "       'Madhya Pradesh', 'Maharashtra', 'Manipur', 'Meghalaya', 'Mizoram',\n",
      "       'Nagaland', 'Odisha', 'Puducherry', 'Punjab', 'Rajasthan', 'Sikkim',\n",
      "       'Tamil Nadu', 'Telangana', 'Tripura', 'Uttar Pradesh', 'Uttarakhand',\n",
      "       'West Bengal', 'India'],\n",
      "      dtype='object', name='States/UTs')\n"
     ]
    }
   ],
   "source": [
    "print(df_lit.index)"
   ]
  },
  {
   "cell_type": "code",
   "execution_count": 63,
   "metadata": {},
   "outputs": [
    {
     "name": "stdout",
     "output_type": "stream",
     "text": [
      "0      60.7\n",
      "1      82.8\n",
      "2     114.4\n",
      "3      91.9\n",
      "4      63.3\n",
      "5      79.7\n",
      "6      80.7\n",
      "7      57.3\n",
      "8      62.5\n",
      "9      96.1\n",
      "10     65.8\n",
      "11     54.2\n",
      "12    103.4\n",
      "13     61.6\n",
      "14     72.6\n",
      "15     59.9\n",
      "16    102.1\n",
      "17     56.4\n",
      "18    109.3\n",
      "19     57.9\n",
      "20     81.2\n",
      "Name: Total GFR, dtype: float64\n"
     ]
    }
   ],
   "source": [
    "print(df_fert[\"Total GFR\"])"
   ]
  },
  {
   "cell_type": "code",
   "execution_count": 66,
   "metadata": {},
   "outputs": [
    {
     "name": "stdout",
     "output_type": "stream",
     "text": [
      "   Rural GFR      States/UTs\n",
      "0       63.6  Andhra Pradesh\n",
      "1       88.8           Assam\n",
      "2      118.2           Bihar\n",
      "3       99.1    Chhattisgarh\n",
      "4       70.9           Delhi\n"
     ]
    }
   ],
   "source": [
    "temp = df_fert[[\"Rural GFR\",\"States/UTs\"]]\n",
    "print(temp.head())"
   ]
  }
 ],
 "metadata": {
  "kernelspec": {
   "display_name": "Python 3",
   "language": "python",
   "name": "python3"
  },
  "language_info": {
   "codemirror_mode": {
    "name": "ipython",
    "version": 3
   },
   "file_extension": ".py",
   "mimetype": "text/x-python",
   "name": "python",
   "nbconvert_exporter": "python",
   "pygments_lexer": "ipython3",
   "version": "3.10.12"
  },
  "orig_nbformat": 4
 },
 "nbformat": 4,
 "nbformat_minor": 2
}
